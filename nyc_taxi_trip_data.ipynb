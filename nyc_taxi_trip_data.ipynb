{
  "nbformat": 4,
  "nbformat_minor": 0,
  "metadata": {
    "colab": {
      "name": "Untitled1.ipynb",
      "provenance": [],
      "authorship_tag": "ABX9TyODTgPGCMdR5gOTyUW0ZLEj",
      "include_colab_link": true
    },
    "kernelspec": {
      "name": "python3",
      "display_name": "Python 3"
    },
    "language_info": {
      "name": "python"
    }
  },
  "cells": [
    {
      "cell_type": "markdown",
      "metadata": {
        "id": "view-in-github",
        "colab_type": "text"
      },
      "source": [
        "<a href=\"https://colab.research.google.com/github/jvitorfernandes/Dataquest/blob/master/nyc_taxi_trip_data.ipynb\" target=\"_parent\"><img src=\"https://colab.research.google.com/assets/colab-badge.svg\" alt=\"Open In Colab\"/></a>"
      ]
    },
    {
      "cell_type": "markdown",
      "source": [
        "# NYC Taxi Trip Data"
      ],
      "metadata": {
        "id": "F9CA8IJKYfXa"
      }
    },
    {
      "cell_type": "markdown",
      "source": [
        "Source: [NYC Taxi and Limousine Commission](http://www.nyc.gov/html/tlc/html/about/trip_record_data.shtml)\n",
        "\n",
        "This data set includes a 1/50th random sample of all trips between January and June 2016 that either start or end at an aiport location.\n",
        "\n",
        "## Column Summary\n",
        "\n",
        "- `pickup_year` - The year of the trip.\n",
        "- `pickup_month` - The month of the trip (January is `1`, December is `12`).\n",
        "- `pickup_day` - The day of the month of the trip.\n",
        "- `pickup_dayofweek` - The day of the week (Monday is `1`, Sunday is `7`)\n",
        "- `pickup_time` - The time that the trip started, as one of six categories:\n",
        "    - `0` - 0:00am-3:59am.\n",
        "    - `1` - 4:00am-7:59am.\n",
        "    - `2` - 8:00am-11:59am.\n",
        "    - `3` - 12:00pm-3:59pm.\n",
        "    - `4` - 4:00pm-7:59pm.\n",
        "    - `5` - 8:00pm-11:59pm.\n",
        "- `pickup_location_code` - The airport or [borough](https://en.wikipedia.org/wiki/Boroughs_of_New_York_City) where the the trip started, as one of eight categories:\n",
        "    - `0` - Bronx.\n",
        "    - `1` - Brooklyn.\n",
        "    - `2` - JFK Airport.\n",
        "    - `3` - LaGuardia Airport.\n",
        "    - `4` - Manhattan.\n",
        "    - `5` - Newark Airport.\n",
        "    - `6` - Queens.\n",
        "    - `7` - Staten Island.\n",
        "- `dropoff_location_code` - The airport or borough where the the trip finished, using the same eight category codes as `pickup_location_code`.\n",
        "- `trip_distance` - The distance of the trip in miles.\n",
        "- `trip_length` - The length of the trip in seconds.\n",
        "- `fare_amount` - The base fare of the trip, in dollars.\n",
        "- `fees_amount` - Any fees added to the fare, eg surcharges, extras, and MTA taxes.\n",
        "- `tolls_amount` - The amount of all tolls paid during the trip.\n",
        "- `tip_amount` - The tip added by the customer - does not include cash tips.\n",
        "- `total_amount` - The total amount charged to the passenger, excluding cash tips.\n",
        "- `payment_type` - The payment type, one of six categories:\n",
        "    - `1` - Credit card.\n",
        "    - `2` - Cash.\n",
        "    - `3` - No charge.\n",
        "    - `4` - Dispute.\n",
        "    - `5` - Unknown.\n",
        "    - `6` - Voided trip."
      ],
      "metadata": {
        "id": "GWkCCurnYVOI"
      }
    },
    {
      "cell_type": "markdown",
      "source": [
        "# ... \n",
        "\n",
        "---\n",
        "\n"
      ],
      "metadata": {
        "id": "PC42UWHLY0YP"
      }
    },
    {
      "cell_type": "code",
      "source": [
        ""
      ],
      "metadata": {
        "id": "7dqK7lN9Y4Aw"
      },
      "execution_count": null,
      "outputs": []
    }
  ]
}